{
 "cells": [
  {
   "cell_type": "code",
   "execution_count": 5,
   "metadata": {
    "collapsed": false
   },
   "outputs": [],
   "source": [
    "import mnist\n",
    "import numpy as np"
   ]
  },
  {
   "cell_type": "code",
   "execution_count": 3,
   "metadata": {
    "collapsed": true
   },
   "outputs": [],
   "source": [
    "x_train, t_train, x_test, t_test = mnist.load()"
   ]
  },
  {
   "cell_type": "code",
   "execution_count": 7,
   "metadata": {
    "collapsed": false
   },
   "outputs": [],
   "source": [
    "x_train=np.reshape(x_train,(60000,28,28,1))\n",
    "x_test=np.reshape(x_test,(10000,28,28,1))"
   ]
  },
  {
   "cell_type": "code",
   "execution_count": 12,
   "metadata": {
    "collapsed": false
   },
   "outputs": [
    {
     "data": {
      "text/plain": [
       "4"
      ]
     },
     "execution_count": 12,
     "metadata": {},
     "output_type": "execute_result"
    }
   ],
   "source": [
    "t_train[2]"
   ]
  },
  {
   "cell_type": "code",
   "execution_count": 24,
   "metadata": {
    "collapsed": false
   },
   "outputs": [],
   "source": [
    "import numpy as np\n",
    "\n",
    "def conv(inputs, weights):\n",
    "\t# convolution layer with stride = 1\n",
    "\t# inputs[x,y,z], weights[n,x,y,z]\n",
    "\ti_size = inputs.shape\n",
    "\tw_size = weights.shape\n",
    "\tL = i_size[0] # inputs length\n",
    "\tD = i_size[2] # inputs/weights depth\n",
    "\tW = w_size[1] # weights length\n",
    "\tK = w_size[0] # number of weighs\n",
    "\tO_L = L-W+1 # outputs length\n",
    "\tO_D = K # outputs depth\n",
    "\toutputs = np.zeros((O_L, O_L, O_D))\n",
    "\tfor n in range(0,K):\n",
    "\t\tfor y_base in range(0,L-W+1):\n",
    "\t\t\tfor x_base in range(0,L-W+1):\n",
    "\t\t\t\tfor z in range(0,D):\n",
    "\t\t\t\t\tfor y in range(y_base,y_base+W):\n",
    "\t\t\t\t\t\tfor x in range(x_base,x_base+W):\n",
    "\t\t\t\t\t\t\toutputs[x_base,y_base,n] += inputs[x,y,z]*weights[n,x-x_base,y-y_base,z] \n",
    "\treturn outputs\n",
    "\n",
    "\n",
    "def max_pool(inputs, pool_size):\n",
    "\t# Compute max-pooling on inputs (3-D matirx) using a window size of pool_size*pool_size\n",
    "\t# return the pooling results and posistion\n",
    "\ti_size = inputs.shape\n",
    "\tL = i_size[0] # inputs length\n",
    "\tD = i_size[2] # inputs depth\n",
    "\tO_L = int(L/pool_size)\n",
    "\toutputs = np.zeros((O_L, O_L, D))\n",
    "\tposition = np.zeros((O_L, O_L, D))\n",
    "\tfor z in range(0,D):\n",
    "\t\tfor y in range(0,O_L):\n",
    "\t\t\ty_base = y*pool_size\n",
    "\t\t\tfor x in range(0,O_L):\n",
    "\t\t\t\tx_base = x*pool_size\n",
    "\t\t\t\tmax_num = -99999.99\n",
    "\t\t\t\tmax_pos = 0\n",
    "\t\t\t\tfor j in range(y_base,y_base+pool_size):\n",
    "\t\t\t\t\tfor i in range(x_base,x_base+pool_size):\n",
    "\t\t\t\t\t\tif inputs[i,j,z]>max_num:\n",
    "\t\t\t\t\t\t\tmax_num = inputs[i,j,z]\n",
    "\t\t\t\t\t\t\tmax_pos = (i-x_base) + (j-y_base)*pool_size\n",
    "\t\t\t\toutputs[x,y,z] = max_num\n",
    "\t\t\t\tposition[x,y,z] = max_pos\n",
    "\treturn outputs, position\n",
    "\n",
    "\n",
    "def relu(inputs):\n",
    "\t# Compute the relu function\n",
    "\t# inputs[x,y,z]\n",
    "\treturn np.maximum(inputs,0)\n",
    "\n",
    "\n",
    "def fc(inputs, weights):\n",
    "\t# inputs[x,y,z], weights[i,o]\n",
    "\tinputs_ar = inputs.flatten()\n",
    "\tinputs_nums = inputs_ar.shape[0]\n",
    "\toutput_nums = weights.shape[1]\n",
    "\toutputs = np.zeros((output_nums,))\n",
    "\tfor o in range(0,output_nums):\n",
    "\t\tfor i in range(0,inputs_nums):\n",
    "\t\t\toutputs[o] += inputs_ar[i]*weights[i,o]\n",
    "\treturn outputs\n",
    "\n",
    "def softmax(x):\n",
    "\t# Compute softmax values for each number in inputs (1-D array)\n",
    "\tshift_x = x - np.max(x)\n",
    "\texp_x = np.exp(shift_x)\n",
    "\treturn exp_x / np.sum(exp_x)\n",
    "\n",
    "\n",
    "def cross_entropy(outputs, label):\n",
    "\t# Compute the cross entropy loss\n",
    "\t# outputs is a 1-d array, label is a number (classification)\n",
    "\treturn -np.log(outputs[label])\n",
    "\t\t\t\t\n",
    "def back_conv(inputs, weights, out_gd):\n",
    "\t# Compute the gradients in one convolution layer\n",
    "\t# inputs[l,l,d], weights[k,w,w,d], out_gd[o_l,o_l,k]\n",
    "\t# The outputs are the weights gradients and inputs gradients\n",
    "\ti_size = inputs.shape\n",
    "\tw_size = weights.shape\n",
    "\to_size = out_gd.shape\n",
    "\tL = i_size[0]\n",
    "\tD = i_size[2]\n",
    "\tW = w_size[1]\n",
    "\tK = w_size[0] # number of weighs and the depth of outputs\n",
    "\tO_L = o_size[0] # outputs length = L-W+1\n",
    "\t# Reshape out_gd[o_l,o_l,k] into [k,o_l,o_l,1]\n",
    "\tout_gd_rs = np.zeros((K,O_L,O_L,1))\n",
    "\tfor n in range(0,K):\n",
    "\t\tfor y in range(0,O_L):\n",
    "\t\t\tfor x in range(0,O_L):\n",
    "\t\t\t\tout_gd_rs[n,x,y,0] = out_gd[x,y,n]\n",
    "\tw_gd = np.zeros(weights.shape)\n",
    "\tfor d in range(0,D):\n",
    "\t\ttmp = conv(inputs[:,:,d].reshape((L,L,1)), out_gd_rs)\n",
    "\t\tfor i in range(0,K):\n",
    "\t\t\tw_gd[i,:,:,d] = tmp[:,:,i]\n",
    "\tw_rs = np.zeros((D, W, W, K))\n",
    "\tfor i in range(0,K):\n",
    "\t\tfor j in range(0,D):\n",
    "\t\t\tw_rs[j,:,:,i] = weights[i,:,:,j] # w reshape\n",
    "\tw_rsrt = np.rot90(w_rs,2) # rotate 180\n",
    "\tpad_num = W-1\n",
    "\tout_gd_pad = np.pad(out_gd, ((pad_num,pad_num), (pad_num,pad_num), (0,0)), 'constant')\n",
    "\ti_gd = conv(out_gd_pad, w_rsrt)\n",
    "\treturn w_gd, i_gd\n",
    "\n",
    "def back_maxpool(out_gd, pos, pool_size):\n",
    "\t# Compute the gradients of max-pooling layer\n",
    "\to_size = out_gd.shape\n",
    "\ti_size = (pool_size*o_size[0], pool_size*o_size[1], o_size[2])\n",
    "\ti_gd = np.zeros(i_size)\n",
    "\tfor z in range(0,o_size[2]):\n",
    "\t\tfor y in range(0,o_size[1]):\n",
    "\t\t\ty_base = y*pool_size\n",
    "\t\t\tfor x in range(0,o_size[0]):\n",
    "\t\t\t\tx_base = x*pool_size\n",
    "\t\t\t\tx_add = int(pos[x,y,z]%pool_size)\n",
    "\t\t\t\ty_add = int(pos[x,y,z]/pool_size)\n",
    "\t\t\t\ti_gd[(x_base+x_add), (y_base+y_add), z] = out_gd[x,y,z]\n",
    "\treturn i_gd\n",
    "\n",
    "def back_relu(inputs, out_gd):\n",
    "\t# Compute the gradients of relu\n",
    "\t# inputs[l,l,d], out_gd[l,l,d]\n",
    "\ti_gd = out_gd\n",
    "\ti_size = inputs.shape\n",
    "\tfor z in range(0,i_size[2]):\n",
    "\t\tfor y in range(0,i_size[1]):\n",
    "\t\t\tfor x in range(0,i_size[0]):\n",
    "\t\t\t\tif inputs[x,y,z]<=0:\n",
    "\t\t\t\t\ti_gd[x,y,z]=0\n",
    "\treturn i_gd\n",
    "\n",
    "def back_fc(inputs, weights, out_gd):\n",
    "\t# Compute the gradients in one FC layer\n",
    "\t# inputs[i_size], weights[i_size, o_size], out_gd[o_size]\n",
    "\t# The results are the weights gradients and inputs gradients\n",
    "\ti_size = inputs.shape[0]\n",
    "\to_size = out_gd.shape[0]\n",
    "\tw_gd = np.zeros((i_size,o_size))\n",
    "\tfor o in range(0,o_size):\n",
    "\t\tfor i in range(0,i_size):\n",
    "\t\t\tw_gd[i,o] = out_gd[o]*inputs[i]\n",
    "\ti_gd = np.zeros((i_size,))\n",
    "\tfor i in range(0,i_size):\n",
    "\t\tfor o in range(0,o_size):\n",
    "\t\t\ti_gd[i] += out_gd[o]*weights[i,o]\n",
    "\treturn w_gd, i_gd\n",
    "\n",
    "\n",
    "def back_ce(outputs, label):\n",
    "\t# Compute the gradients of cross entropy loss on softmax inputs, d(a_k)=o_k-t_k\n",
    "\t# outputs is a 1-d array (softmax outputs), label is a number (classification)\n",
    "\to_gd = outputs\n",
    "\to_gd[label] -= 1\n",
    "\treturn o_gd\n"
   ]
  },
  {
   "cell_type": "code",
   "execution_count": 17,
   "metadata": {
    "collapsed": false
   },
   "outputs": [],
   "source": [
    "nums = 10\n",
    "inputs = np.random.rand(nums, 10, 10, 1)\n",
    "w1_target = (np.random.rand(4, 3, 3, 1)-0.5)\n",
    "w2_target = (np.random.rand(2, 3, 3, 4)-0.5)\n",
    "w3_target = (np.random.rand(8, 4)-0.5)\n",
    "# conv1: [10,10,1]*[4,3,3,1]=[8,8,4], relu\n",
    "# pool2x2: [8,8,4]->[4,4,4]\n",
    "# conv2: [4,4,4]*[2,3,3,4]=[2,2,2], relu\n",
    "# fc: [2,2,2]->[4]\n",
    "# softmax\n",
    "def inference(inputs, w1, w2, w3):\n",
    "\to1 = relu(conv(inputs, w1))\n",
    "\tx2, x2_pos = max_pool(o1, 2)\n",
    "\to2 = relu(conv(x2, w2))\n",
    "\to3 = fc(o2, w3)\n",
    "\tresults = softmax(o3)\n",
    "\treturn results\n",
    "\t# return results\n",
    "def inference_train(inputs, w1, w2, w3):\n",
    "\to1 = relu(conv(inputs, w1))\n",
    "\tx2, x2_pos = max_pool(o1, 2)\n",
    "\to2 = relu(conv(x2, w2))\n",
    "\to3 = fc(o2, w3)\n",
    "\tresults = softmax(o3)\n",
    "\treturn o1, x2_pos, o2, o3, results"
   ]
  },
  {
   "cell_type": "code",
   "execution_count": 18,
   "metadata": {
    "collapsed": false
   },
   "outputs": [],
   "source": [
    "# inference, generate data\n",
    "outputs = np.zeros((nums,4))\n",
    "for i in range(0,nums):\n",
    " \toutputs[i,:] = inference(inputs[i,:,:,:], w1_target, w2_target, w3_target)\n",
    "labels = np.argmax(outputs, axis=1)"
   ]
  },
  {
   "cell_type": "code",
   "execution_count": 19,
   "metadata": {
    "collapsed": false
   },
   "outputs": [
    {
     "ename": "NameError",
     "evalue": "name 'x2' is not defined",
     "output_type": "error",
     "traceback": [
      "\u001b[0;31m---------------------------------------------------------------------------\u001b[0m",
      "\u001b[0;31mNameError\u001b[0m                                 Traceback (most recent call last)",
      "\u001b[0;32m<ipython-input-19-866920f35378>\u001b[0m in \u001b[0;36m<module>\u001b[0;34m()\u001b[0m\n\u001b[1;32m     17\u001b[0m         \u001b[0mw3\u001b[0m \u001b[0;34m-=\u001b[0m \u001b[0mlr\u001b[0m\u001b[0;34m*\u001b[0m\u001b[0mw3_gd\u001b[0m\u001b[0;34m\u001b[0m\u001b[0m\n\u001b[1;32m     18\u001b[0m         \u001b[0mo2_gd\u001b[0m \u001b[0;34m=\u001b[0m \u001b[0mnp\u001b[0m\u001b[0;34m.\u001b[0m\u001b[0mreshape\u001b[0m\u001b[0;34m(\u001b[0m\u001b[0mi3_gd\u001b[0m\u001b[0;34m,\u001b[0m \u001b[0;34m(\u001b[0m\u001b[0;36m2\u001b[0m\u001b[0;34m,\u001b[0m\u001b[0;36m2\u001b[0m\u001b[0;34m,\u001b[0m\u001b[0;36m2\u001b[0m\u001b[0;34m)\u001b[0m\u001b[0;34m)\u001b[0m\u001b[0;34m\u001b[0m\u001b[0m\n\u001b[0;32m---> 19\u001b[0;31m         \u001b[0mw2_gd\u001b[0m\u001b[0;34m,\u001b[0m \u001b[0mi2_gd\u001b[0m \u001b[0;34m=\u001b[0m \u001b[0mback_conv\u001b[0m\u001b[0;34m(\u001b[0m\u001b[0mx2\u001b[0m\u001b[0;34m,\u001b[0m \u001b[0mw2\u001b[0m\u001b[0;34m,\u001b[0m \u001b[0mback_relu\u001b[0m\u001b[0;34m(\u001b[0m\u001b[0mo2\u001b[0m\u001b[0;34m,\u001b[0m \u001b[0mo2_gd\u001b[0m\u001b[0;34m)\u001b[0m\u001b[0;34m)\u001b[0m\u001b[0;34m\u001b[0m\u001b[0m\n\u001b[0m\u001b[1;32m     20\u001b[0m         \u001b[0mw2\u001b[0m \u001b[0;34m-=\u001b[0m \u001b[0mlr\u001b[0m\u001b[0;34m*\u001b[0m\u001b[0mw2_gd\u001b[0m\u001b[0;34m\u001b[0m\u001b[0m\n\u001b[1;32m     21\u001b[0m         \u001b[0mw1_gd\u001b[0m\u001b[0;34m,\u001b[0m \u001b[0mi1_gd\u001b[0m \u001b[0;34m=\u001b[0m \u001b[0mback_conv\u001b[0m\u001b[0;34m(\u001b[0m\u001b[0minputs\u001b[0m\u001b[0;34m[\u001b[0m\u001b[0mx\u001b[0m\u001b[0;34m,\u001b[0m\u001b[0;34m:\u001b[0m\u001b[0;34m,\u001b[0m\u001b[0;34m:\u001b[0m\u001b[0;34m,\u001b[0m\u001b[0;34m:\u001b[0m\u001b[0;34m]\u001b[0m\u001b[0;34m,\u001b[0m \u001b[0mw1\u001b[0m\u001b[0;34m,\u001b[0m \u001b[0mback_relu\u001b[0m\u001b[0;34m(\u001b[0m\u001b[0mo1\u001b[0m \u001b[0;34m,\u001b[0m\u001b[0mback_maxpool\u001b[0m\u001b[0;34m(\u001b[0m\u001b[0mi2_gd\u001b[0m\u001b[0;34m,\u001b[0m \u001b[0mx2_pos\u001b[0m\u001b[0;34m,\u001b[0m \u001b[0;36m2\u001b[0m\u001b[0;34m)\u001b[0m\u001b[0;34m)\u001b[0m\u001b[0;34m)\u001b[0m\u001b[0;34m\u001b[0m\u001b[0m\n",
      "\u001b[0;31mNameError\u001b[0m: name 'x2' is not defined"
     ]
    }
   ],
   "source": [
    "w1 = (np.random.rand(4, 3, 3, 1)-0.5)\n",
    "w2 = (np.random.rand(2, 3, 3, 4)-0.5)\n",
    "w3 = (np.random.rand(8, 4)-0.5)\n",
    "\n",
    "w1_gd = np.zeros((4, 3, 3, 1))\n",
    "w2_gd = np.zeros((2, 3, 3, 4))\n",
    "w3_gd = np.zeros((8, 4))\n",
    "\n",
    "# train, SGD\n",
    "lr = 0.001\n",
    "for i in range(0,nums):\n",
    "\tx = np.random.randint(nums, size=1)[0]\n",
    "\to1, x2_pos, o2, o3, o = inference_train(inputs[x,:,:,:], w1, w2, w3)\n",
    "\tlabel = labels[x]\n",
    "\to_gd = back_ce(o, label)\n",
    "\tw3_gd, i3_gd = back_fc(o2.flatten(), w3, o_gd)\n",
    "\tw3 -= lr*w3_gd\n",
    "\to2_gd = np.reshape(i3_gd, (2,2,2))\n",
    "\tw2_gd, i2_gd = back_conv(x2, w2, back_relu(o2, o2_gd))\n",
    "\tw2 -= lr*w2_gd\n",
    "\tw1_gd, i1_gd = back_conv(inputs[x,:,:,:], w1, back_relu(o1 ,back_maxpool(i2_gd, x2_pos, 2)))\n",
    "\tw1 -= lr*w1_gd"
   ]
  },
  {
   "cell_type": "code",
   "execution_count": 10,
   "metadata": {
    "collapsed": false,
    "scrolled": true
   },
   "outputs": [
    {
     "data": {
      "text/plain": [
       "0"
      ]
     },
     "execution_count": 10,
     "metadata": {},
     "output_type": "execute_result"
    }
   ],
   "source": [
    "0"
   ]
  },
  {
   "cell_type": "code",
   "execution_count": 9,
   "metadata": {
    "collapsed": false
   },
   "outputs": [],
   "source": [
    "c1_size = (8, 5, 5, 1)\n",
    "c2_size = (16, 5, 5, 8)\n",
    "f1_size = (256, 256)\n",
    "f2_size = (256, 10)"
   ]
  },
  {
   "cell_type": "code",
   "execution_count": 35,
   "metadata": {
    "collapsed": false
   },
   "outputs": [],
   "source": [
    "def mnist_in_only(inputs, w1, w2, w3, w4):\n",
    "\to1 = relu(conv(inputs, w1))\n",
    "\tx2, x2_pos = max_pool(o1, 2)\n",
    "\to2 = relu(conv(x2, w2))\n",
    "\tx3, x3_pos = max_pool(o2, 2)\n",
    "\to3 = fc(x3, w3)\n",
    "\to4 = fc(o3, w4)\n",
    "\tresults = softmax(o4)\n",
    "\treturn np.argmax(results)\n",
    "\n",
    "def mnist_in(inputs, w1, w2, w3, w4):\n",
    "\to1 = relu(conv(inputs, w1))\n",
    "\tx2, x2_pos = max_pool(o1, 2)\n",
    "\to2 = relu(conv(x2, w2))\n",
    "\tx3, x3_pos = max_pool(o2, 2)\n",
    "\to3 = fc(x3, w3)\n",
    "\to4 = fc(o3, w4)\n",
    "\tresults = softmax(o4)\n",
    "\treturn o1, x2_pos, x2, o2, x3_pos, x3, o3, results\n",
    "\n",
    "def evaluate_train(n, w1, w2, w3, w4):\n",
    "\thit = 0\n",
    "\tfor i in range(0,n):\n",
    "\t\tx = np.random.randint(60000, size=1)[0]\n",
    "\t\ty = mnist_in_only(x_train[x,:,:,:], w1, w2, w3, w4)\n",
    "\t\tlabel = t_train[x]\n",
    "\t\tif label == y:\n",
    "\t\t\thit += 1\n",
    "\treturn hit/n"
   ]
  },
  {
   "cell_type": "code",
   "execution_count": null,
   "metadata": {
    "collapsed": true
   },
   "outputs": [],
   "source": [
    "c1 = (np.random.rand(c1_size[0],c1_size[1],c1_size[2],c1_size[3])-0.5)\n",
    "c2 = (np.random.rand(c2_size[0],c2_size[1],c2_size[2],c2_size[3])-0.5)\n",
    "f1 = (np.random.rand(f1_size[0], f1_size[1])-0.5)\n",
    "f2 = (np.random.rand(f2_size[0], f2_size[1])-0.5)"
   ]
  },
  {
   "cell_type": "code",
   "execution_count": null,
   "metadata": {
    "collapsed": false
   },
   "outputs": [
    {
     "name": "stdout",
     "output_type": "stream",
     "text": [
      "0.1\n",
      "0.04\n",
      "0.12\n",
      "0.14\n",
      "0.08\n",
      "0.08\n",
      "0.14\n",
      "0.08\n",
      "0.08\n",
      "0.16\n",
      "0.06\n"
     ]
    }
   ],
   "source": [
    "nums = 10000\n",
    "\n",
    "# train, SGD\n",
    "lr = 0.001\n",
    "for i in range(0,nums):\n",
    "\tx = np.random.randint(60000, size=1)[0]\n",
    "\to1, x2_pos, x2, o2, x3_pos, x3, o3, o = mnist_in(x_train[x,:,:,:], c1, c2, f1, f2)\n",
    "\tlabel = t_train[x]\n",
    "\to_gd = back_ce(o, label)\n",
    "\tf2_gd, i4_gd = back_fc(o3.flatten(), f2, o_gd)\n",
    "\tf1_gd, i3_gd = back_fc(x3.flatten(), f1, i4_gd)\n",
    "\t\n",
    "\to2_gdrs = np.reshape(i3_gd, (4,4,16))\n",
    "\to2_gd = back_maxpool(o2_gdrs, x3_pos, 2)\n",
    "\tc2_gd, i2_gd = back_conv(x2, c2, back_relu(o2, o2_gd))\n",
    "\n",
    "\to1_gd = back_maxpool(i2_gd, x2_pos, 2)\n",
    "\tc1_gd, i1_gd = back_conv(x_train[x,:,:,:], c1, back_relu(o1, o1_gd))\n",
    "\t\n",
    "\tf2 -= lr*f2_gd\n",
    "\tf1 -= lr*f1_gd\n",
    "\tc2 -= lr*c2_gd\n",
    "\tc1 -= lr*c1_gd\n",
    "\tif i%500==0:\n",
    "\t\tprint(evaluate_train(50, c1, c2, f1, f2))"
   ]
  },
  {
   "cell_type": "code",
   "execution_count": 33,
   "metadata": {
    "collapsed": false
   },
   "outputs": [
    {
     "data": {
      "text/plain": [
       "8"
      ]
     },
     "execution_count": 33,
     "metadata": {},
     "output_type": "execute_result"
    }
   ],
   "source": [
    "np.argmax(mnist_in_only(x_train[100,:,:,:], c1, c2, f1, f2))"
   ]
  },
  {
   "cell_type": "code",
   "execution_count": 29,
   "metadata": {
    "collapsed": false
   },
   "outputs": [
    {
     "data": {
      "text/plain": [
       "5"
      ]
     },
     "execution_count": 29,
     "metadata": {},
     "output_type": "execute_result"
    }
   ],
   "source": [
    "t_train[0]"
   ]
  },
  {
   "cell_type": "code",
   "execution_count": 38,
   "metadata": {
    "collapsed": false
   },
   "outputs": [
    {
     "name": "stdout",
     "output_type": "stream",
     "text": [
      "0.087\n"
     ]
    }
   ],
   "source": [
    "print(evaluate_train(1000, c1, c2, f1, f2))"
   ]
  },
  {
   "cell_type": "code",
   "execution_count": 61,
   "metadata": {
    "collapsed": false
   },
   "outputs": [
    {
     "name": "stdout",
     "output_type": "stream",
     "text": [
      "[[0.79417445 0.17329868]\n",
      " [0.86185539 0.93331098]\n",
      " [0.10208973 0.58916474]\n",
      " [0.99718015 0.83547482]]\n",
      "[[0.8232517  0.50407707]\n",
      " [0.7168652  0.56350755]\n",
      " [0.88392545 0.38008863]\n",
      " [0.62029238 0.72771073]]\n",
      "[[0.72552191 0.03438626]\n",
      " [0.54815919 0.45128632]\n",
      " [0.55896284 0.84450879]\n",
      " [0.81781409 0.52432925]]\n",
      "[[0.93402148 0.62054184]\n",
      " [0.9162403  0.66802162]\n",
      " [0.91838777 0.1487008 ]\n",
      " [0.22275874 0.61763001]]\n"
     ]
    }
   ],
   "source": []
  },
  {
   "cell_type": "code",
   "execution_count": null,
   "metadata": {
    "collapsed": true
   },
   "outputs": [],
   "source": []
  }
 ],
 "metadata": {
  "kernelspec": {
   "display_name": "Python 3",
   "language": "python",
   "name": "python3"
  },
  "language_info": {
   "codemirror_mode": {
    "name": "ipython",
    "version": 3
   },
   "file_extension": ".py",
   "mimetype": "text/x-python",
   "name": "python",
   "nbconvert_exporter": "python",
   "pygments_lexer": "ipython3",
   "version": "3.6.0"
  }
 },
 "nbformat": 4,
 "nbformat_minor": 2
}
