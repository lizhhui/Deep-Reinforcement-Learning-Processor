{
 "cells": [
  {
   "cell_type": "code",
   "execution_count": 1,
   "metadata": {
    "collapsed": false
   },
   "outputs": [
    {
     "name": "stdout",
     "output_type": "stream",
     "text": [
      "Downloading train-images-idx3-ubyte.gz...\n",
      "Downloading t10k-images-idx3-ubyte.gz...\n",
      "Downloading train-labels-idx1-ubyte.gz...\n",
      "Downloading t10k-labels-idx1-ubyte.gz...\n",
      "Download complete.\n",
      "Save complete.\n"
     ]
    }
   ],
   "source": [
    "import mnist\n",
    "\n",
    "mnist.init()"
   ]
  },
  {
   "cell_type": "code",
   "execution_count": 66,
   "metadata": {
    "collapsed": true
   },
   "outputs": [],
   "source": [
    "x_train, t_train, x_test, t_test = mnist.load()"
   ]
  },
  {
   "cell_type": "code",
   "execution_count": 67,
   "metadata": {
    "collapsed": false
   },
   "outputs": [],
   "source": [
    "x_train=np.reshape(x_train,(60000,28,28,1))"
   ]
  },
  {
   "cell_type": "code",
   "execution_count": 71,
   "metadata": {
    "collapsed": false
   },
   "outputs": [
    {
     "data": {
      "text/plain": [
       "8"
      ]
     },
     "execution_count": 71,
     "metadata": {},
     "output_type": "execute_result"
    }
   ],
   "source": [
    "t_train[144]"
   ]
  },
  {
   "cell_type": "code",
   "execution_count": 163,
   "metadata": {
    "collapsed": false
   },
   "outputs": [],
   "source": [
    "import numpy as np\n",
    "\n",
    "def conv(inputs, weights):\n",
    "\t# convolution layer with stride = 1\n",
    "\t# inputs[x,y,z], weights[n,x,y,z]\n",
    "\ti_size = inputs.shape\n",
    "\tw_size = weights.shape\n",
    "\tL = i_size[0] # inputs length\n",
    "\tD = i_size[2] # inputs/weights depth\n",
    "\tW = w_size[1] # weights length\n",
    "\tK = w_size[0] # number of weighs\n",
    "\tO_L = L-W+1 # outputs length\n",
    "\tO_D = K # outputs depth\n",
    "\toutputs = np.zeros((O_L, O_L, O_D))\n",
    "\tfor n in range(0,K):\n",
    "\t\tfor y_base in range(0,L-W+1):\n",
    "\t\t\tfor x_base in range(0,L-W+1):\n",
    "\t\t\t\tfor z in range(0,D):\n",
    "\t\t\t\t\tfor y in range(y_base,y_base+W):\n",
    "\t\t\t\t\t\tfor x in range(x_base,x_base+W):\n",
    "\t\t\t\t\t\t\toutputs[x_base,y_base,n] += inputs[x,y,z]*weights[n,x-x_base,y-y_base,z] \n",
    "\treturn outputs\n",
    "\n",
    "\n",
    "def max_pool(inputs, pool_size):\n",
    "\t# Compute max-pooling on inputs (3-D matirx) using a window size of pool_size*pool_size\n",
    "\t# return the pooling results and posistion\n",
    "\ti_size = inputs.shape\n",
    "\tL = i_size[0] # inputs length\n",
    "\tD = i_size[2] # inputs depth\n",
    "\tO_L = int(L/pool_size)\n",
    "\toutputs = np.zeros((O_L, O_L, D))\n",
    "\tposition = np.zeros((O_L, O_L, D))\n",
    "\tfor z in range(0,D):\n",
    "\t\tfor y in range(0,O_L):\n",
    "\t\t\ty_base = y*pool_size\n",
    "\t\t\tfor x in range(0,O_L):\n",
    "\t\t\t\tx_base = x*pool_size\n",
    "\t\t\t\tmax_num = -99999.99\n",
    "\t\t\t\tmax_pos = 0\n",
    "\t\t\t\tfor j in range(y_base,y_base+pool_size):\n",
    "\t\t\t\t\tfor i in range(x_base,x_base+pool_size):\n",
    "\t\t\t\t\t\tif inputs[i,j,z]>max_num:\n",
    "\t\t\t\t\t\t\tmax_num = inputs[i,j,z]\n",
    "\t\t\t\t\t\t\tmax_pos = (i-x_base) + (j-y_base)*pool_size\n",
    "\t\t\t\toutputs[x,y,z] = max_num\n",
    "\t\t\t\tposition[x,y,z] = max_pos\n",
    "\treturn outputs, position\n",
    "\n",
    "\n",
    "def relu(inputs):\n",
    "\t# Compute the relu function\n",
    "\t# inputs[x,y,z]\n",
    "\treturn np.maximum(inputs,0)\n",
    "\n",
    "\n",
    "def fc(inputs, weights):\n",
    "\t# inputs[x,y,z], weights[i,o]\n",
    "\tinputs_ar = inputs.flatten()\n",
    "\tinputs_nums = inputs_ar.shape[0]\n",
    "\toutput_nums = weights.shape[1]\n",
    "\toutputs = np.zeros((output_nums,))\n",
    "\tfor o in range(0,output_nums):\n",
    "\t\tfor i in range(0,inputs_nums):\n",
    "\t\t\toutputs[o] += inputs_ar[i]*weights[i,o]\n",
    "\treturn outputs\n",
    "\n",
    "def softmax(inputs):\n",
    "\t# Compute softmax values for each number in inputs (1-D array)\n",
    "\treturn np.exp(inputs) / np.sum(np.exp(inputs), axis=0)\n",
    "\n",
    "\n",
    "def cross_entropy(outputs, label):\n",
    "\t# Compute the cross entropy loss\n",
    "\t# outputs is a 1-d array, label is a number (classification)\n",
    "\treturn -np.log(outputs[label])\n",
    "\t\t\t\t\n",
    "def back_conv(inputs, weights, out_gd):\n",
    "\t# Compute the gradients in one convolution layer\n",
    "\t# inputs[l,l,d], weights[k,w,w,d], out_gd[o_l,o_l,k]\n",
    "\t# The outputs are the weights gradients and inputs gradients\n",
    "\ti_size = inputs.shape\n",
    "\tw_size = weights.shape\n",
    "\to_size = out_gd.shape\n",
    "\tL = i_size[0]\n",
    "\tD = i_size[2]\n",
    "\tW = w_size[1]\n",
    "\tK = w_size[0] # number of weighs and the depth of outputs\n",
    "\tO_L = o_size[0] # outputs length = L-W+1\n",
    "\t# Reshape out_gd[o_l,o_l,k] into [k,o_l,o_l,1]\n",
    "\tout_gd_rs = np.zeros((K,O_L,O_L,1))\n",
    "\tfor n in range(0,K):\n",
    "\t\tfor y in range(0,O_L):\n",
    "\t\t\tfor x in range(0,O_L):\n",
    "\t\t\t\tout_gd_rs[n,x,y,0] = out_gd[x,y,n]\n",
    "\tw_gd = np.zeros(weights.shape)\n",
    "\tfor d in range(0,D):\n",
    "\t\ttmp = conv(inputs[:,:,d].reshape((L,L,1)), out_gd_rs)\n",
    "\t\tfor i in range(0,K):\n",
    "\t\t\tw_gd[i,:,:,d] = tmp[:,:,i]\n",
    "\tw_rs = np.zeros((D, W, W, K))\n",
    "\tfor i in range(0,K):\n",
    "\t\tfor j in range(0,D):\n",
    "\t\t\tw_rs[j,:,:,i] = weights[i,:,:,j] # w reshape\n",
    "\tw_rsrt = np.rot90(w_rs,2) # rotate 180\n",
    "\tpad_num = W-1\n",
    "\tout_gd_pad = np.pad(out_gd, ((pad_num,pad_num), (pad_num,pad_num), (0,0)), 'constant')\n",
    "\ti_gd = conv(out_gd_pad, w_rsrt)\n",
    "\treturn w_gd, i_gd\n",
    "\n",
    "def back_maxpool(out_gd, pos, pool_size):\n",
    "\t# Compute the gradients of max-pooling layer\n",
    "\to_size = out_gd.shape\n",
    "\ti_size = (pool_size*o_size[0], pool_size*o_size[1], o_size[2])\n",
    "\ti_gd = np.zeros(i_size)\n",
    "\tfor z in range(0,o_size[2]):\n",
    "\t\tfor y in range(0,o_size[1]):\n",
    "\t\t\ty_base = y*pool_size\n",
    "\t\t\tfor x in range(0,o_size[0]):\n",
    "\t\t\t\tx_base = x*pool_size\n",
    "\t\t\t\tx_add = int(pos[x,y,z]%pool_size)\n",
    "\t\t\t\ty_add = int(pos[x,y,z]/pool_size)\n",
    "\t\t\t\ti_gd[(x_base+x_add), (y_base+y_add), z] = out_gd[x,y,z]\n",
    "\treturn i_gd\n",
    "\n",
    "def back_relu(inputs, out_gd):\n",
    "\t# Compute the gradients of relu\n",
    "\t# inputs[l,l,d], out_gd[l,l,d]\n",
    "\ti_gd = out_gd\n",
    "\ti_size = inputs.shape\n",
    "\tfor z in range(0,i_size[2]):\n",
    "\t\tfor y in range(0,i_size[1]):\n",
    "\t\t\tfor x in range(0,i_size[0]):\n",
    "\t\t\t\tif inputs[x,y,z]<=0:\n",
    "\t\t\t\t\ti_gd[x,y,z]=0\n",
    "\treturn i_gd\n",
    "\n",
    "def back_fc(inputs, weights, out_gd):\n",
    "\t# Compute the gradients in one FC layer\n",
    "\t# inputs[i_size], weights[i_size, o_size], out_gd[o_size]\n",
    "\t# The results are the weights gradients and inputs gradients\n",
    "\ti_size = inputs.shape[0]\n",
    "\to_size = out_gd.shape[0]\n",
    "\tw_gd = np.zeros((i_size,o_size))\n",
    "\tfor o in range(0,o_size):\n",
    "\t\tfor i in range(0,i_size):\n",
    "\t\t\tw_gd[i,o] = out_gd[o]*inputs[i]\n",
    "\ti_gd = np.zeros((i_size,))\n",
    "\tfor i in range(0,i_size):\n",
    "\t\tfor o in range(0,o_size):\n",
    "\t\t\ti_gd[i] += out_gd[o]*weights[i,o]\n",
    "\treturn w_gd, i_gd\n",
    "\n",
    "\n",
    "def back_ce(outputs, label):\n",
    "\t# Compute the gradients of cross entropy loss on softmax inputs, d(a_k)=o_k-t_k\n",
    "\t# outputs is a 1-d array (softmax outputs), label is a number (classification)\n",
    "\to_gd = outputs\n",
    "\to_gd[label] -= 1\n",
    "\treturn o_gd\n"
   ]
  },
  {
   "cell_type": "code",
   "execution_count": 154,
   "metadata": {
    "collapsed": false
   },
   "outputs": [],
   "source": [
    "nums = 10\n",
    "inputs = np.random.rand(nums, 10, 10, 1)\n",
    "w1_target = (np.random.rand(4, 3, 3, 1)-0.5)\n",
    "w2_target = (np.random.rand(2, 3, 3, 4)-0.5)\n",
    "w3_target = (np.random.rand(8, 4)-0.5)\n",
    "# conv1: [10,10,1]*[4,3,3,1]=[8,8,4], relu\n",
    "# pool2x2: [8,8,4]->[4,4,4]\n",
    "# conv2: [4,4,4]*[2,3,3,4]=[2,2,2], relu\n",
    "# fc: [2,2,2]->[4]\n",
    "# softmax\n",
    "def inference(inputs, w1, w2, w3):\n",
    "\to1 = relu(conv(inputs, w1))\n",
    "\tx2, x2_pos = max_pool(o1, 2)\n",
    "\to2 = relu(conv(x2, w2))\n",
    "\to3 = fc(o2, w3)\n",
    "\tresults = softmax(o3)\n",
    "\treturn results\n",
    "\t# return results\n",
    "def inference_train(inputs, w1, w2, w3):\n",
    "\to1 = relu(conv(inputs, w1))\n",
    "\tx2, x2_pos = max_pool(o1, 2)\n",
    "\to2 = relu(conv(x2, w2))\n",
    "\to3 = fc(o2, w3)\n",
    "\tresults = softmax(o3)\n",
    "\treturn o1, x2_pos, o2, o3, results"
   ]
  },
  {
   "cell_type": "code",
   "execution_count": 155,
   "metadata": {
    "collapsed": false
   },
   "outputs": [],
   "source": [
    "# inference, generate data\n",
    "outputs = np.zeros((nums,4))\n",
    "for i in range(0,nums):\n",
    " \toutputs[i,:] = inference(inputs[i,:,:,:], w1_target, w2_target, w3_target)\n",
    "labels = np.argmax(outputs, axis=1)"
   ]
  },
  {
   "cell_type": "code",
   "execution_count": 167,
   "metadata": {
    "collapsed": false
   },
   "outputs": [],
   "source": [
    "w1 = (np.random.rand(4, 3, 3, 1)-0.5)\n",
    "w2 = (np.random.rand(2, 3, 3, 4)-0.5)\n",
    "w3 = (np.random.rand(8, 4)-0.5)\n",
    "\n",
    "w1_gd = np.zeros((4, 3, 3, 1))\n",
    "w2_gd = np.zeros((2, 3, 3, 4))\n",
    "w3_gd = np.zeros((8, 4))\n",
    "\n",
    "# train, SGD\n",
    "lr = 0.001\n",
    "for i in range(0,nums):\n",
    "\tx = np.random.randint(nums, size=1)[0]\n",
    "\to1, x2_pos, o2, o3, o = inference_train(inputs[x,:,:,:], w1, w2, w3)\n",
    "\tlabel = labels[x]\n",
    "\to_gd = back_ce(o, label)\n",
    "\tw3_gd, i3_gd = back_fc(o2.flatten(), w3, o_gd)\n",
    "\tw3 -= lr*w3_gd\n",
    "\to2_gd = np.reshape(i3_gd, (2,2,2))\n",
    "\tw2_gd, i2_gd = back_conv(x2, w2, back_relu(o2, o2_gd))\n",
    "\tw2 -= lr*w2_gd\n",
    "\tw1_gd, i1_gd = back_conv(inputs[x,:,:,:], w1, back_relu(o1 ,back_maxpool(i2_gd, x2_pos, 2)))\n",
    "\tw1 -= lr*w1_gd"
   ]
  },
  {
   "cell_type": "code",
   "execution_count": 168,
   "metadata": {
    "collapsed": false
   },
   "outputs": [
    {
     "data": {
      "text/plain": [
       "array([[[[-0.04673905],\n",
       "         [ 0.28879445],\n",
       "         [ 0.12408646]],\n",
       "\n",
       "        [[-0.07672546],\n",
       "         [-0.35395341],\n",
       "         [-0.20956708]],\n",
       "\n",
       "        [[ 0.30194097],\n",
       "         [ 0.23993273],\n",
       "         [-0.08793971]]],\n",
       "\n",
       "\n",
       "       [[[-0.08351089],\n",
       "         [-0.43564425],\n",
       "         [-0.3013652 ]],\n",
       "\n",
       "        [[-0.44836703],\n",
       "         [ 0.45781916],\n",
       "         [-0.07852724]],\n",
       "\n",
       "        [[-0.28979032],\n",
       "         [-0.16066595],\n",
       "         [ 0.09591031]]],\n",
       "\n",
       "\n",
       "       [[[ 0.02365889],\n",
       "         [-0.34646377],\n",
       "         [ 0.22587069]],\n",
       "\n",
       "        [[-0.01611232],\n",
       "         [ 0.45408667],\n",
       "         [-0.22040552]],\n",
       "\n",
       "        [[-0.48489114],\n",
       "         [-0.33588085],\n",
       "         [-0.11075787]]],\n",
       "\n",
       "\n",
       "       [[[-0.30276453],\n",
       "         [ 0.15015285],\n",
       "         [ 0.33833078]],\n",
       "\n",
       "        [[-0.44522726],\n",
       "         [-0.06638061],\n",
       "         [-0.07496232]],\n",
       "\n",
       "        [[ 0.09733285],\n",
       "         [ 0.1799329 ],\n",
       "         [ 0.21383427]]]])"
      ]
     },
     "execution_count": 168,
     "metadata": {},
     "output_type": "execute_result"
    }
   ],
   "source": [
    "w1"
   ]
  },
  {
   "cell_type": "code",
   "execution_count": 169,
   "metadata": {
    "collapsed": false
   },
   "outputs": [
    {
     "data": {
      "text/plain": [
       "array([[[[-0.38065206],\n",
       "         [-0.20422076],\n",
       "         [ 0.47281294]],\n",
       "\n",
       "        [[-0.08813955],\n",
       "         [ 0.37582132],\n",
       "         [-0.36273983]],\n",
       "\n",
       "        [[-0.25739495],\n",
       "         [ 0.14947223],\n",
       "         [ 0.26228274]]],\n",
       "\n",
       "\n",
       "       [[[ 0.37980637],\n",
       "         [ 0.09501178],\n",
       "         [ 0.02921646]],\n",
       "\n",
       "        [[ 0.16946303],\n",
       "         [ 0.45262278],\n",
       "         [ 0.23438201]],\n",
       "\n",
       "        [[ 0.11266593],\n",
       "         [ 0.28261244],\n",
       "         [ 0.40774832]]],\n",
       "\n",
       "\n",
       "       [[[-0.01593916],\n",
       "         [-0.35294358],\n",
       "         [-0.38377735]],\n",
       "\n",
       "        [[-0.22982248],\n",
       "         [-0.47083888],\n",
       "         [-0.06298003]],\n",
       "\n",
       "        [[ 0.450917  ],\n",
       "         [-0.0202332 ],\n",
       "         [-0.22281965]]],\n",
       "\n",
       "\n",
       "       [[[ 0.15288279],\n",
       "         [-0.47816382],\n",
       "         [ 0.41511379]],\n",
       "\n",
       "        [[ 0.13873636],\n",
       "         [ 0.27206514],\n",
       "         [-0.35682004]],\n",
       "\n",
       "        [[ 0.25538563],\n",
       "         [ 0.25677511],\n",
       "         [ 0.01500386]]]])"
      ]
     },
     "execution_count": 169,
     "metadata": {},
     "output_type": "execute_result"
    }
   ],
   "source": [
    "w1_target"
   ]
  },
  {
   "cell_type": "code",
   "execution_count": 162,
   "metadata": {
    "collapsed": false
   },
   "outputs": [
    {
     "data": {
      "text/plain": [
       "0"
      ]
     },
     "execution_count": 162,
     "metadata": {},
     "output_type": "execute_result"
    }
   ],
   "source": [
    "x_base"
   ]
  },
  {
   "cell_type": "code",
   "execution_count": 133,
   "metadata": {
    "collapsed": false
   },
   "outputs": [
    {
     "data": {
      "text/plain": [
       "False"
      ]
     },
     "execution_count": 133,
     "metadata": {},
     "output_type": "execute_result"
    }
   ],
   "source": [
    "(2,4)==a"
   ]
  },
  {
   "cell_type": "code",
   "execution_count": 124,
   "metadata": {
    "collapsed": false
   },
   "outputs": [
    {
     "data": {
      "text/plain": [
       "array([[[ 0.26794506, -0.01131777],\n",
       "        [ 0.29254472, -0.45131766],\n",
       "        [-0.1010155 , -0.20501933],\n",
       "        [ 0.09478556, -0.49029721]],\n",
       "\n",
       "       [[ 0.23596477, -0.4363544 ],\n",
       "        [ 0.01005017, -0.36480113],\n",
       "        [-0.13884978, -0.09347446],\n",
       "        [-0.34049371,  0.44748428]],\n",
       "\n",
       "       [[-0.39898181,  0.38123769],\n",
       "        [-0.26031675,  0.48375708],\n",
       "        [-0.31713154, -0.49923861],\n",
       "        [-0.40579174,  0.48493841]],\n",
       "\n",
       "       [[ 0.48902813, -0.36278535],\n",
       "        [ 0.49144304, -0.47398545],\n",
       "        [-0.01705243, -0.19835447],\n",
       "        [-0.00864586,  0.04518272]]])"
      ]
     },
     "execution_count": 124,
     "metadata": {},
     "output_type": "execute_result"
    }
   ],
   "source": [
    "np.reshape(w1f, (4,4,2))"
   ]
  },
  {
   "cell_type": "code",
   "execution_count": 57,
   "metadata": {
    "collapsed": false
   },
   "outputs": [
    {
     "data": {
      "text/plain": [
       "0.0771446680728521"
      ]
     },
     "execution_count": 57,
     "metadata": {},
     "output_type": "execute_result"
    }
   ],
   "source": [
    "outputs = np.random.rand(4)\n",
    "-np.log(outputs[1])"
   ]
  },
  {
   "cell_type": "code",
   "execution_count": 60,
   "metadata": {
    "collapsed": false
   },
   "outputs": [
    {
     "data": {
      "text/plain": [
       "array([[[0.79417445, 0.17329868],\n",
       "        [0.86185539, 0.93331098],\n",
       "        [0.10208973, 0.58916474],\n",
       "        [0.99718015, 0.83547482]],\n",
       "\n",
       "       [[0.8232517 , 0.50407707],\n",
       "        [0.7168652 , 0.56350755],\n",
       "        [0.88392545, 0.38008863],\n",
       "        [0.62029238, 0.72771073]],\n",
       "\n",
       "       [[0.72552191, 0.03438626],\n",
       "        [0.54815919, 0.45128632],\n",
       "        [0.55896284, 0.84450879],\n",
       "        [0.81781409, 0.52432925]],\n",
       "\n",
       "       [[0.93402148, 0.62054184],\n",
       "        [0.9162403 , 0.66802162],\n",
       "        [0.91838777, 0.1487008 ],\n",
       "        [0.22275874, 0.61763001]]])"
      ]
     },
     "execution_count": 60,
     "metadata": {},
     "output_type": "execute_result"
    }
   ],
   "source": [
    "a = np.random.rand(4,4,2)\n",
    "a"
   ]
  },
  {
   "cell_type": "code",
   "execution_count": 61,
   "metadata": {
    "collapsed": false
   },
   "outputs": [
    {
     "name": "stdout",
     "output_type": "stream",
     "text": [
      "[[0.79417445 0.17329868]\n",
      " [0.86185539 0.93331098]\n",
      " [0.10208973 0.58916474]\n",
      " [0.99718015 0.83547482]]\n",
      "[[0.8232517  0.50407707]\n",
      " [0.7168652  0.56350755]\n",
      " [0.88392545 0.38008863]\n",
      " [0.62029238 0.72771073]]\n",
      "[[0.72552191 0.03438626]\n",
      " [0.54815919 0.45128632]\n",
      " [0.55896284 0.84450879]\n",
      " [0.81781409 0.52432925]]\n",
      "[[0.93402148 0.62054184]\n",
      " [0.9162403  0.66802162]\n",
      " [0.91838777 0.1487008 ]\n",
      " [0.22275874 0.61763001]]\n"
     ]
    }
   ],
   "source": []
  },
  {
   "cell_type": "code",
   "execution_count": null,
   "metadata": {
    "collapsed": true
   },
   "outputs": [],
   "source": []
  }
 ],
 "metadata": {
  "kernelspec": {
   "display_name": "Python 3",
   "language": "python",
   "name": "python3"
  },
  "language_info": {
   "codemirror_mode": {
    "name": "ipython",
    "version": 3
   },
   "file_extension": ".py",
   "mimetype": "text/x-python",
   "name": "python",
   "nbconvert_exporter": "python",
   "pygments_lexer": "ipython3",
   "version": "3.6.0"
  }
 },
 "nbformat": 4,
 "nbformat_minor": 2
}
